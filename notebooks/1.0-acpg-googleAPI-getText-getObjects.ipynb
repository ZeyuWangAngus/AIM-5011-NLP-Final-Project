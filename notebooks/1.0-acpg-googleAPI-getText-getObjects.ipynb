{
 "cells": [
  {
   "cell_type": "markdown",
   "metadata": {},
   "source": [
    "# Install Google Cloud Vision Client"
   ]
  },
  {
   "cell_type": "code",
   "execution_count": 2,
   "metadata": {},
   "outputs": [
    {
     "name": "stdout",
     "output_type": "stream",
     "text": [
      "Requirement already satisfied: google-cloud-vision in d:\\users\\alex\\anaconda3\\lib\\site-packages (2.6.3)\n",
      "Requirement already satisfied: proto-plus>=1.15.0 in d:\\users\\alex\\anaconda3\\lib\\site-packages (from google-cloud-vision) (1.19.8)\n",
      "Requirement already satisfied: google-api-core[grpc]<3.0.0dev,>=1.28.0 in d:\\users\\alex\\anaconda3\\lib\\site-packages (from google-cloud-vision) (2.3.2)\n",
      "Requirement already satisfied: protobuf>=3.12.0 in d:\\users\\alex\\anaconda3\\lib\\site-packages (from google-api-core[grpc]<3.0.0dev,>=1.28.0->google-cloud-vision) (3.19.1)\n",
      "Requirement already satisfied: google-auth<3.0dev,>=1.25.0 in d:\\users\\alex\\anaconda3\\lib\\site-packages (from google-api-core[grpc]<3.0.0dev,>=1.28.0->google-cloud-vision) (2.3.3)\n",
      "Requirement already satisfied: requests<3.0.0dev,>=2.18.0 in d:\\users\\alex\\anaconda3\\lib\\site-packages (from google-api-core[grpc]<3.0.0dev,>=1.28.0->google-cloud-vision) (2.26.0)\n",
      "Requirement already satisfied: googleapis-common-protos<2.0dev,>=1.52.0 in d:\\users\\alex\\anaconda3\\lib\\site-packages (from google-api-core[grpc]<3.0.0dev,>=1.28.0->google-cloud-vision) (1.54.0)\n",
      "Requirement already satisfied: setuptools>=40.3.0 in d:\\users\\alex\\anaconda3\\lib\\site-packages (from google-api-core[grpc]<3.0.0dev,>=1.28.0->google-cloud-vision) (58.0.4)\n",
      "Requirement already satisfied: grpcio<2.0dev,>=1.33.2 in d:\\users\\alex\\anaconda3\\lib\\site-packages (from google-api-core[grpc]<3.0.0dev,>=1.28.0->google-cloud-vision) (1.43.0)\n",
      "Requirement already satisfied: grpcio-status<2.0dev,>=1.33.2 in d:\\users\\alex\\anaconda3\\lib\\site-packages (from google-api-core[grpc]<3.0.0dev,>=1.28.0->google-cloud-vision) (1.43.0)\n",
      "Requirement already satisfied: cachetools<5.0,>=2.0.0 in d:\\users\\alex\\anaconda3\\lib\\site-packages (from google-auth<3.0dev,>=1.25.0->google-api-core[grpc]<3.0.0dev,>=1.28.0->google-cloud-vision) (4.2.4)\n",
      "Requirement already satisfied: pyasn1-modules>=0.2.1 in d:\\users\\alex\\anaconda3\\lib\\site-packages (from google-auth<3.0dev,>=1.25.0->google-api-core[grpc]<3.0.0dev,>=1.28.0->google-cloud-vision) (0.2.7)\n",
      "Requirement already satisfied: six>=1.9.0 in d:\\users\\alex\\anaconda3\\lib\\site-packages (from google-auth<3.0dev,>=1.25.0->google-api-core[grpc]<3.0.0dev,>=1.28.0->google-cloud-vision) (1.16.0)\n",
      "Requirement already satisfied: rsa<5,>=3.1.4 in d:\\users\\alex\\anaconda3\\lib\\site-packages (from google-auth<3.0dev,>=1.25.0->google-api-core[grpc]<3.0.0dev,>=1.28.0->google-cloud-vision) (4.7.2)\n",
      "Requirement already satisfied: pyasn1<0.5.0,>=0.4.6 in d:\\users\\alex\\anaconda3\\lib\\site-packages (from pyasn1-modules>=0.2.1->google-auth<3.0dev,>=1.25.0->google-api-core[grpc]<3.0.0dev,>=1.28.0->google-cloud-vision) (0.4.8)\n",
      "Requirement already satisfied: charset-normalizer~=2.0.0 in d:\\users\\alex\\anaconda3\\lib\\site-packages (from requests<3.0.0dev,>=2.18.0->google-api-core[grpc]<3.0.0dev,>=1.28.0->google-cloud-vision) (2.0.4)\n",
      "Requirement already satisfied: idna<4,>=2.5 in d:\\users\\alex\\anaconda3\\lib\\site-packages (from requests<3.0.0dev,>=2.18.0->google-api-core[grpc]<3.0.0dev,>=1.28.0->google-cloud-vision) (3.2)\n",
      "Requirement already satisfied: certifi>=2017.4.17 in d:\\users\\alex\\anaconda3\\lib\\site-packages (from requests<3.0.0dev,>=2.18.0->google-api-core[grpc]<3.0.0dev,>=1.28.0->google-cloud-vision) (2021.10.8)\n",
      "Requirement already satisfied: urllib3<1.27,>=1.21.1 in d:\\users\\alex\\anaconda3\\lib\\site-packages (from requests<3.0.0dev,>=2.18.0->google-api-core[grpc]<3.0.0dev,>=1.28.0->google-cloud-vision) (1.26.7)\n",
      "Note: you may need to restart the kernel to use updated packages.\n"
     ]
    }
   ],
   "source": [
    "%pip install --upgrade google-cloud-vision\n",
    "#%pip install --upgrade google-cloud-speech\n",
    "#%pip install --upgrade google-cloud-language\n",
    "#%pip install --upgrade google-cloud-texttospeech"
   ]
  },
  {
   "cell_type": "code",
   "execution_count": 54,
   "metadata": {},
   "outputs": [],
   "source": [
    "import os\n",
    "import io\n",
    "import time\n",
    "import pandas as pd"
   ]
  },
  {
   "cell_type": "markdown",
   "metadata": {},
   "source": [
    "# Image Locations Paths"
   ]
  },
  {
   "cell_type": "code",
   "execution_count": 55,
   "metadata": {},
   "outputs": [],
   "source": [
    "# Path of the images\n",
    "images_location_original=\"../data/raw\"\n",
    "images_location_facebook=\"../data/external\"\n",
    "\n",
    "# Path of the output\n",
    "images_location_processed=\"../data/processed/google_API_response\"\n"
   ]
  },
  {
   "cell_type": "markdown",
   "metadata": {},
   "source": [
    "## Get list of Images Names for our own Images"
   ]
  },
  {
   "cell_type": "code",
   "execution_count": 56,
   "metadata": {},
   "outputs": [
    {
     "name": "stdout",
     "output_type": "stream",
     "text": [
      "['10246724_747008182064474_2873398654888745189_n.png', 'obama-meme.jpg', 'alldone.png', 'brown.png', 'patriots.png', 'pending.png', 'mikeFlynn.png', 'precipice.png', 'DUfydpRW4AA5WYF.jpg', 'DUfigmUXUAIc8G5.jpg', 'DUPUIOkXcAAujr0.jpg', 'DVKz6V5WsAE7dlR.jpg', 'hypocrite2.png', 'isaid.png', 'racistVoting.png', 'bush.png', 'pedowood.png', 'bringPain.png', 'twitterJail.jpg', 'treasonNN.jpg', 'PROSECUTION.jpg', 'faithhealer.jpg', 'PrayingMedic.jpg', 'noFlyNancy.jpg', 'maggie.png', 'internalCivilWar.jpg', 'auschwitz.jpg', '14faef5e6164585c084d65fb66d59c78.jpeg', '6fb33123bd09944b92fba03051ca17c9.jpeg', '4dfaaeb44e80b2eba0dfcc7cea091419.png', 'catwithconeears.gif', 'snowwhitesheadexplodes.gif', 'rowanatkinsononkeyboards.gif', 'arielinspired.gif', 'abesimpsoninandout.gif', 'dogstealsbra.gif', 'stuntgolfer.gif', 'wrapitup.gif', 'camerongangsta.jpg', 'aaaahhhh.gif', 'catrollsoverfallsoff.gif', 'moustachesarecool.gif', 'catattack.gif', 'bitchimfabulous.gif', 'yologangnam.gif', 'shockhorror.gif', 'Boy-That-Escalated-Quickly-Anchorman.gif', 'skirtfail.gif', 'boysvsgirls.jpg', 'LinuxYourWindows.jpg', 'sharkattackscat.gif', 'isawitontheinternet.gif', 'trustyourgps.jpg', 'denied.gif', 'launchrocketfail.gif', 'bombdiveteleport.gif', 'tickle.gif', 'owlsohnoshedidnt.gif', 'catwatchingtennis.gif', 'shutup.gif', 'tardmark.gif', 'why.gif', 'number3.gif', 'shortfall.gif', 'backgroundmusic.gif', 'exactly.gif', 'zorbingfootball.gif', 'Lazy.jpg', 'drinkwithmoderation.gif', 'needalight.gif', 'touchmycake.jpg', 'it-crowd-turn-it-off-and-on-again.jpg', 'dancefail.gif', 'rockout.gif', 'guineapigs.gif', 'juggleandsurf.gif', 'nailfiling.gif', 'catfoam.jpg', 'skeltoncockneywalk.gif', 'ultimatebaseballpitch.gif', 'awwyisss.gif', 'drivingface.jpg', 'manicattackHowDoSworks.gif', 'usetheforce(2).gif', 'goatridingtortoise.gif', 'both.gif', 'giveusahug.gif', 'tvdancing.gif', 'evolutionandphilosophy.jpg', 'dementedcat.jpg', 'coincidence.gif', 'mine.gif', 'cardtrick.gif', 'catinshades.gif', 'jawdropping.gif', 'beer.gif', 'littlebusy.gif', 'catgoat.jpg', 'wherehaveyoubeen.jpg', 'stealthkitten.gif', 'slowclap.gif', 'burned.jpg', 'jarhead.jpg', 'despicablekick.gif', 'potatoheadpicasso.gif', 'darthfader.jpg', 'usetheforce(1).gif', 'catstroking.gif', 'tankcat.gif', 'walklikeadinosaur.gif', 'please dont disturb me.gif', 'usetheforce.gif', 'drift.gif', 'suckmy.gif', 'yourebothcrap.gif', 'crashcamel.gif', 'perspectivegif.gif', 'puppyspring.gif', 'divingkitty.gif', 'toxicworkenvironment.gif', 'whostoleyourbike.jpg', 'staplewater.png', 'just look.jpg', 'handlethetruth.gif', 'watchthewire.png', 'feedingtime.gif', 'shakeweight.gif', 'playwithyourpussy.jpg', 'dealing with it.gif', 'funandgames.gif', 'boo.gif', 'blogaboutit.jpg', 'getin.gif', 'bananacat.gif', 'jumprope.gif', 'nono.gif', 'sleepanywhere.gif', 'signlanguage.gif', 'takeabow.gif', 'topstory.jpg', 'weinerattack.gif', 'attackhelicopter.gif', 'smartorflipphone.gif', 'weirdfingers.gif', 'choochoo.gif', '1186075_738359006193555_1935554128_n.jpg', '13 - 1(4).jpg', 'coffee.jpg', 'google-girl(1).jpg', '944524_10151559756578736_493439519_n.jpg', '1175473_10153167111135433_1553345586_n.jpg', 'c8Rwp.gif', '13 - 1(3).jpg', 'keep-an-eye-out.jpg', 'homade(1).jpg', 'ATT00856.jpg', '1377640062385 (1).jpg', '{785FDCFE-6CC2-4934-9673-03216E9D592A} (1).jpg', '{785FDCFE-6CC2-4934-9673-03216E9D592A}.jpg', '13 - 1(2).jpg', '13 - 1(1).jpg', '13 - 1 (1)(1).jpg', 'IMG_20130820_131440.JPG', 'IMG_20130820_001909.JPG', 'IMG_20130819_063737.JPG', 'IMG_20130819_063406(1).JPG', 'IMG_20130817_104717.JPG', 'IMG_20130815_003839.JPG', 'IMG_20130813_190317.JPG', 'IMG_20130806_062327.JPG', 'Svw7vt7.png', 'TR5P(1).jpg', 'download_20130806_163204.jpg', 'bad luck cat(1).gif', '969600_359316244197947_2135746681_n.jpg', 'ay5dx9X_460sa.gif', '13 - 1 (8).jpg', '2013 - 1.jpg', '1376994362322.jpg', '13 - 1 (6)(1).jpg', '13 - 1 (7).jpg', '13 - 1 (5)(1).jpg', '13 - 1 (4)(1).jpg', '13 - 1 (3)(2).jpg', '13 - 1 (2).jpg', '1184883_631024373630305_1288321586_n.jpg', '_ (4).jpg', 'blurgh.gif', 'magictowels.gif', 'shambuzz.gif', 'hiiiifive.gif', 'slamdunk.gif', 'specialwalking.gif', 'turnoffkitten.gif', 'highfivepro.gif', 'snortakitten.gif', '0rockysuperman.jpg', '4.jpg', '2.jpg', '4a0798f006acadddb3750d34342d3500.jpg', '5.jpg', '5PwY-ACu8lmlEO9qbqJVcoPjpxUWSmRU-joxNvykY7A.jpeg', '7-11.jpg', '12js34.jpg', '13 - 1.png', '13 - 1.jpg', '13 - 1 (1).jpg', '13 - 1 (1)(2).jpg', '13 - 1 (1)(3).jpg', '13 - 1 (1)(4).jpg', '13 - 1 (1)(5).jpg', '13 - 1 (1)(6).jpg', '13 - 1 (1)(7).jpg', '13 - 1 (1)(8).jpg', '13 - 1 (2)(2).jpg', '13 - 1 (2)(1).jpg', '13 - 1 (2)(3).jpg', '13 - 1 (3).jpg', '13 - 1 (2)(4).jpg', '13 - 1 (3)(1).jpg', '13 - 1 (4).jpg', '13 - 1 (5).jpg', '13 - 1 (6).jpg', '13 - 1(1).png', '13 - 1(5).jpg', '13 - 1(6).jpg', '13 - 1(7).jpg', '13 - 1(8).jpg', '13 - 1(9).jpg', '13 - 1(10).jpg', '13 - 1(11).jpg', '13 - 1(13).jpg', '13 - 1(12).jpg', '13 - 1(14).jpg', '16.10.13 - 1.jpg', '18.jpg', '20.9.2013. - 1.jpg', '56 - 1.jpg', '46jit.jpg', '77.jpg', '2013 - 1.png', '2013 - 1 (1).jpg', '2013 - 1(1).jpg', '2013 - 1(2).jpg', '2013 - 1(3).jpg', '2013 - 1(4).jpg', '2013 - 1(5).jpg', '2013 - 1(6).jpg', '2013 - 1(8).jpg', '2013 - 1(7).jpg', '2013-08-17 15.04.02.png', '7847_649853625033631_1019490562_n.jpg', '22826_10151261331675560_514239748_n.jpg', '66790_509681225780172_441206379_n.jpg', '50668.jpg', '75529_583770218338527_1565320352_n.jpg', '261443__surfing-white-in-life-buoys_p.jpg', '533216_10202097199620605_1328565652_n.jpg', '537199_600388706673368_1706779852_n.jpg', '545236_167054743499530_582489408_n.jpg', '633489_Lol_programmer_jpg069e06b7a8089f9ff488f6874dcf01cd.jpg', '934723_10151576556353288_510915425_n.jpg', '1001943_647932145239692_1005952937_n.jpg', '1002495_506684982740415_82709502_n.jpg', '1002911_387869458012456_442221612_n.jpg', '1002511_821727181991_1830492083_n.jpg', '1005475_287248014746367_1904938948_n.jpg', '1157640_560830327322724_1236679818_n.jpg', '1017014_569059299822565_1182262010_n.jpg', '1173896_621220427899701_2064484931_n.jpg', '1185213_580544445322173_1202864084_n.jpg', '1186104_576589339053562_1633370143_n.jpg', '1209146_10151910358322840_1882518166_n.jpg', '1235338_523406051073748_1747146301_n.jpg', '1234423_592688857453036_1481668709_n.jpg', '1239452_418348051618510_1968512327_n.jpg', '1378768_652979624768113_1316002649_n.png', '1380427_636689973020748_1006738612_n.jpg', '1382111_10151716898273262_5918417_n.jpg', '1380506_562548037132519_796512300_n.jpg', '1383023_10151749982246655_321503386_n.jpg', '1383635_10151871713094214_136798549_n.jpg', '1385327_676249145741325_1441555201_n.png', '1391664_680490451971969_1665713981_n.jpg', '101347944_large_066726__Dog_leto_simpotichnaya_shlyapka_sobaka_.jpg', '1458690_633637160012315_98233996_n.jpg', '839742222_80fbc3cb73_o.png', '1197958073_1194412128_0101.jpg', '553457522696362735_27366381.jpg', 'adorable-dogs-44.jpg', 'ab59f28a5bc843f7a8b069f257134728.jpg', 'AoWGMGhCAAAPt2L.jpg', 'Arnold.jpg', 'B58OfDr4hH43bQeNYtXTET9SwaMCsiPfu1GnDg92s4A.jpeg', 'bad luck cat.gif', 'ben10-omnitrix-watch-437x242-custom.jpg', 'billion.jpg', 'best-funny-cute-kitten-quotes-sayings-pictures.jpg', 'boxer dog.jpg', 'BpeWV1Z5IPKda8inljDP7Kmn7WfQC5EjASgBLV91S0E.jpeg', 'BS1u6ywCUAAuzML.png', 'can explain.jpg', 'Chiquita-DM2-Minion-Bob-082813.jpg', 'CnH - myblood.png', 'computersaremade.jpg', 'condoms.jpg', 'dafuq-do-you-mean-theres-no-coffee.jpg', 'devhumor_com_superhero.webp', 'descarga.jpg', 'Doctor-Who-Dalek-Arm-Warmers.jpg', 'Doctor_Who-Dalek_Shower_Sign.jpg', 'dog-birthday-party-funny_4678792424391268.jpg', 'dogs11.JPG', 'dogs (7).jpg', 'download (4).jpg', 'download_20130806_163236.jpg', 'dPDFqM1_U8G289tgBr8x47t9L4SW0AIrIipQwEwdeejD.jpeg', 'Drawntogethers01e02_05.png', 'Dream Big.jpg', 'drunken boy_0.jpg', 'Drunk-Social-Media-infographic.jpg', 'e5f65692-84d6-4f57-8d62-39fcc0984b5a.png', 'ec582b55c6e5ee237c569470f1d3b47c.jpg', 'enhanced-buzz-3771-1379009510-21.jpg', 'enhanced-buzz-5730-1379009547-8.jpg', 'enhanced-buzz-25823-1379009452-11.jpg', 'enhanced-buzz-26752-1379009359-8.jpg', 'eS5IkwX.gif', 'facebook_1658561547.jpg', 'facebook-friends.jpg', 'f_CdmYQCq5Cb9Oz9LnWK2z78y3lqecSlGPptOgtMnm4.jpeg', 'force-choke.jpg', 'forehead phone.jpg', 'funestdog.jpg', 'funny-barbecue-cook-clever.jpg', 'generation gap by webbloggers.net.jpg', 'google-girl.jpg', 'Google vs 911 Comic.jpg', 'great-gif-cool-yeah.gif', 'ground.jpg', 'gsmarena_001-640x501.jpg', 'h8E9BEE86.jpg', 'h2JClux.jpg', 'hey yew stop.jpg', 'homade.jpg', 'I3ewotiB6KMD4a6u6iUdHobUWSAwy6HcfjTuI1-Yw7A.jpeg', 'I can explain.jpg', 'Image.jpg', 'iGsxGMHj0RwXxc0wagkUq5haDlTUOOP2AVjwG359dZM.jpeg', 'IMG_3575.JPG', 'IMG_4053.JPG', 'IMG_5045.JPG', 'IMG_20130801_235206.JPG', 'IMG_20130801_080032.JPG', 'IMG_20130804_140942.JPG', 'IMG_20130807_234458.JPG', 'IMG_20130813_132403.JPG', 'IMG_20130819_063430.JPG', 'IMG_20130819_063406.JPG', 'IMG_20130820_131014.JPG', 'IMG_20130828_080417.JPG', 'IMG_20130829_194334.JPG', 'IMG_20130829_205509.JPG', 'IMG_20130830_034142.JPG', 'IMG_20130830_100626.JPG', 'IMG_20130830_131644.JPG', 'IMG_20130831_090128.JPG', 'IMG_20130901_071614.JPG', 'IMG_20130901_072347.JPG', 'IMG_20130901_072835.JPG', 'IMG_20130902_193818.JPG', 'IMG_20130905_145952.JPG', 'IMG_20130906_092555.JPG', 'IMG_20130906_092956.JPG', 'IMG_20130906_093251.JPG', 'IMG_20130907_113115.JPG', 'IMG_20130906_214250.JPG', 'IMG_20130907_113435.JPG', 'IMG_20130907_114741.JPG', 'IMG_20130909_064439.JPG', 'IMG_20130913_111356.JPG', 'IMG_20130913_112210.JPG', 'IMG_20130915_084131.JPG', 'IMG_20130915_084404.JPG', 'IMG_20130916_074010.JPG', 'IMG_20130920_110515.JPG', 'IMG_20130922_122452.JPG', 'IMG_20130925_173503.JPG', 'IMG_20130926_174246.jpg', 'IMG_20130928_131101.JPG', 'IMG_20130929_141118.JPG', 'IMG_20130930_072645.JPG', 'IMG_20131002_061210.JPG', 'IMG_20131002_203609.JPG', 'IMG_20131002_221552.JPG', 'IMG_20131002_221719.JPG', 'IMG_20131002_222100.JPG', 'IMG_20131002_222321.JPG', 'IMG_20131002_224418.JPG', 'IMG_20131003_075240.JPG', 'IMG_20131003_075345.JPG', 'IMG_20131003_075757.JPG', 'IMG_20131003_143708.JPG', 'IMG_20131003_143542.JPG', 'IMG_20131004_102248.JPG', 'IMG_20131004_203536.JPG', 'IMG_20131004_203736.JPG', 'IMG_20131008_071433.JPG', 'IMG_20131010_080917.JPG', 'IMG_20131010_080943.JPG', 'IMG_20131010_081049.JPG', 'IMG_20131014_094114.JPG', 'IMG_20131018_064725.JPG', 'IMG_20131018_064749.JPG', 'IMG_20131018_064813.JPG', 'IMG_20131018_064835.JPG', 'IMG_20131018_064915.JPG', 'IMG_20131018_064933.JPG', 'IMG_20131018_064959.JPG', 'IMG_20131018_065023.JPG', 'IMG_20131018_065059.JPG', 'IMG_20131018_065136.JPG', 'IMG_20131019_084259.JPG', 'IMG_20131019_153657.JPG', 'IMG_20131022_072103.JPG', 'IMG_20131022_072028.JPG', 'IMG_20131025_234649.JPG', 'IMG_20131025_234858.JPG', 'IMG_20131104_154939.JPG', 'IMG_20131030_061721.JPG', 'IMG_20131104_155410.JPG', 'IMG_20131104_155628.JPG', 'IMG_20131104_194801.JPG', 'IMG_20131108_234416.JPG', 'IMG_20131109_172200.JPG', 'IMG_20131111_071712.JPG', 'IMG_20131114_222919.JPG', 'IMG_20131117_102806.JPG', 'IMG_36425814305473.jpeg', 'IMG_20131117_102825.JPG', 'IMG_39692543515436.jpeg', 'IMG_346684154132392.jpeg', 'IMG_346775376351213.jpeg', 'IMG-20130801-WA0008.jpg', 'IMG-20130801-WA0010.jpg', 'IMG-20130802-WA0002.jpg', 'IMG-20130806-WA0002.jpg', 'IMG-20130808-WA0000.jpg', 'IMG-20130808-WA0001.jpg', 'IMG-20130813-WA0005.jpg', 'IMG-20130814-WA0008.jpg', 'IMG-20130815-WA0002.jpg', 'IMG-20130815-WA0004.jpg', 'IMG-20130821-WA0015.jpg', 'IMG-20130827-WA0000.jpg', 'IMG-20130822-WA0009.jpg', 'IMG-20130914-WA0001.jpg', 'IMG-20130901-WA0011.jpg', 'important.jpg', 'i think ive fooled everyone.jpg', 'i_vkSMt9IPrtNNO3v1EM7V6TFjZ4vGOYOrM_rfYU5TOn.png', 'iy9v.png', 'JkieB_MaLSMwuH8t45XidD00y6MY-rGugtQdnSCIMAg.jpeg', 'kitten_Upload.jpg', 'kslZIv14MdXWIAoi_t8jhh5yVCeeQJf1AWutp4O-E68.jpeg', 'monday1175415_729817923714330_1710090732_n.jpg', 'motivate-monday-18.jpg', 'naughty.jpg', 'obama1208928_728305687198887_1248392897_n.jpg', 'oct-14-2013-microsoft-has-announced-a-major-update-to-its-cellphone-software-to-reduce-distractions-for-drivers-it-s-part-of.jpg', 'Picture136.jpg', 'OxB_wk6nfR_sc6K39Cgjmx-YmztN_q_Ilzy1x37p77g.jpeg', 'Puppy-Love-puppy-love-dog-1024x768.jpg', 'portal_n.jpg', 'QZRNN7vF6biFrXPUbJwvENSgYkY_gadBW2kodfb3Ognn.jpeg', 'S4rOWd4BFO5OLvbIaCLGI8p2zwuvCZoYpFeaEqAGJLY.jpeg', 'Screen Shot 2013-10-18 at 16.23.31.png', 'Seems_2BLegit_2B-_2BWorking_2BOut_2BChanges_2BYour_2BRace_2BNow_2BToo_large.jpg', 'smellcolor9.jpg', 'start-again-motivation.jpg', 'stopsignrgb.jpg', 'stuff.jpg', 'swimmers-sperm-small-580x449.jpg', 'toiletpaper.jpg', 'TR5P.jpg', 'tuesdog.jpg', 'tumblr_mj0huzWn4Q1qdn1pno1_500.png', 'tumblr_mrg244oF551qewacoo1_500.png', 'tumblr_ms9cl95oEU1r3gb3zo2_400.gif', 'tumblr_msurolAsq91qz4yloo1_500.jpg', 'tumblr_mt50jdU4Kn1qz7wfjo1_500.jpg', 'tumblr_muk850UI941qewacoo1_500.jpg', 'TXELGdVc2S-F7lMvDLY9isFtNWNQLGxI8lnAIYbOzw.jpeg', '_U63sfVLScNkSqg23X_7y9KmThRZM3FsQoocDonPMec.jpeg', 'wcBnGUnTfmb14mCe-4Sm2E3sN9JJe5DVqoDL4USEUhc.jpeg', 'w-h5AWjvi14Zyp49zyF8GFkrNQKWv7EH_MVpqnU_T0A.jpeg', 'Words cannot explain how relaxing this looks.jpg', 'wxey991cm_P9qG_rGkrjRGBozWsTSBI1rtYHsW-rExU.jpeg', 'yoga.jpg', 'XOeTBeJ2BBpOPgYSb7XWSpiAd6jR0bZz932UBGmg53k.jpeg', 'you-ll-see-some-flapjacks-a3fe3231-sz550x684-animate.jpg', '027-funny-animal-pictures-with-captions-013-pandamonium.jpg', '14 - 1.gif', 'bait.png', 'goddan.png', 'obamaIsis.png', 'bozoz.png', 'joeXmas.png', 'judgement.png', 'triumph.png', 'cnnOriginal.png', 'calmbeforethestorm.jpg', 'envelope.png', 'yougetanEnvelope.png', 'DEEAL.png', 'palceholder.png', 'caught.png', 'crimes.png', 'usmil.png', 'muharrests.png', 'cryfoul.png', 'rogers.png', 'crumbles.png', 'titanicWeKnow.jpg', '54bit.png', 'alert2.png', 'wrapUp.png', 'cbs.png', 'brennanTweet.png', 'cynthia2.png', 'anderson.png', 'rff.png', 'factcheck.png', 'constitution.png', 'declas.gif', 'rabbiut.png', 'anti_jack.png', 'proverbs.png', 'collusionLie.png', 'fenisteET.png', 'believe.png', 'billmaher.png', 'declas.png', 'jackTweet.png', 'crying.png', 'pedomaher.png', 'michael.png', 'publicTrust.png', 'sticker.png', 'jerryBrownbribees.png', 'pedomwilson.png', 'hohoho.png', 'comprehend.png', 'turnthemoff.png', 'losers.png', 'woops.png', 'wwg1wga2.png', 'xbox.png', 'pumpkin.png', 'spoonfeed.png', 'pepeHuber.png', 'subtitles.png', 'sarah.png', 'cummings.png', 'big.png', 'farminBabies.png', 'stormBritain.png', 'buzzfeed.png', 'tomHanks.png', 'tisSeason.png', 'wwg1wga.png', 'ThisIsFine.jpg', 'bear.jpg', 'killPeople.jpg', 'dollar.jpg', 'will.png', 'tenor.gif', 'ask.png', 'shilling.jpg', 'trust.jpg', 'godspeed.png', 'qdrops.png', 'boomerang.png', 'kennedyjusti.png', 'emojis.png', 'obamaKim.png', 'magaPartyHat.png', 'choices.png', 'ranteeria.png', 'best.png', 'monroe.png', 'timelineMaga.png', 'rainwash.png', 'bringThePain.png', 'DXe1vFXUMAEdOMU.jpg', '53-47.png', 'sheepNoMore.png', 'skeltons.png', 'channels.png', 'alison.png', 'alexJones.png', 'takebacktheprize.png', 'activated.png', 'crumbs.png', 'timeCover.jpg', 'crash.png', 'freeItaly.png', 'HOGG_Nra.png', 'democratDeath.png', 'kevinDone.png', 'guess.png', 'learn16yr.png', 'halper.png', 'FATTER.png', 'happened.png', 'donoghue.png', 'lepain.png', 'fbLifeLog.png', 'miley.png', 'huber.png', 'overthrowMe.png', 'oigreport.png', 'seeYou.png', 'prepareToLand.png', 'SNOOP.png', 'pissed.png', 'royals.png', 'Qtrust.png', 'stopFightIng.png', 'listofFires.png', 'q.png', 'stormyOIG.png', 'zuckToileet.png', 'qanonMeme.png', 'popeMay.png', 'repubText.png', 'patriotsFight.gif', 'garb.png', 'activatefd.png', 'macron.png', 'f8.png', 'fbclassaction.png', 'black.png', 'MAC.png', 'rr.png', 'brtain.png', 'winnngg.png', 'SPIES.png', 'AVERTED.png', 'human.png', 'boom.png', 'bringItBack.gif', 'wtf.png', '9.jpg', 'assaulted.png', 'baetty.png', 'zuck.png', 'berlinwall.png', 'alecTrump.png', 'combHair.png', 'Special_Effect_-_Explosion.gif', 'D5.png', 'castle.png', 'feds.png', 'deadcat.png', 'film.png', 'DECLASBOMB.png', 'divesting.png', 'daylost.png', 'hypocrite.png', 'glasgow.png', 'GITMM.png', 'internet.png', 'IQ.png', 'gun.png', 'declasRosen.png', 'seals.png', 'justice.png', 'leakerHRC.png', 'DULHxSsW0AYLU-0.jpg', 'sandberg.png', 'fixed.png', 'LEAKER.png', 'veto.png', 'mccabe.jpg', 'kennedy.png', 'rocket.png', 'space.jpg', 'titani.png', 'alert.png', 'DT23GWPVMAEZC5v.jpg', 'DT4XBDbUMAEXogC.jpg', 'DT_eH7OWkAUXNyC.jpg', 'lawrence.gif', 'DTEXsoVVoAAvIa5.jpg', 'maxine.png', 'DT70lKfW4AEJETD.jpg', 'DT7kk2PWAAICBmH.jpg', 'DTlfgZQVoAAdldu.jpg', 'CNN.png', 'DT74bGTXkAAJD5p.jpg', 'robin.png', 'DTrpAEgWsAAKwCn.jpg', 'DTw4ykNWsAAemC2.jpg', 'DTsW-hmX4AA7Llh.jpg', 'DTwdvFaUQAADjqN.jpg', 'DTt3GYaVQAAPBru.jpg', 'DTsb4QZWkAALv7U.jpg', 'DTSb66eVwAAdqVy.jpg', 'DTwxFy7W4AECdu5.jpg', 'DTsSuGEWAAA6o-A.jpg', 'DTxsm4WXcAEMGKL.jpg', 'DTw1KX8WkAElp8G.jpg', 'DTwCQ_qVMAA9c2f.jpg', 'DTxjoHZUQAA6VIl.jpg', 'DUCZJ9SU8AAhtZi.jpg', 'real.png', 'DUCwOmmVwAAnvvY.jpg', 'DUaUHa7X4AAw-xB.jpg', 'DU11aFPX4AEdLF_.jpg', 'DUhe4A5VQAAJI-f.jpg', 'DUaBLqUX0AAl3Bt.jpg', 'DUfCbBJWsAEVSQZ.jpg', 'DUKiVukWAAAcLRw.jpg', 'DUJykp9WsAE9GYZ.jpg', 'redwave.png', 'DUSBmchX0AAAVpg.jpg', 'DUVWxm-X0AE0Cyz.jpg', 'DUU9LOgW4AYucyG.jpg', 'DUpb46CU8AAzYL3.jpg', 'DUZXmsFW0AAfftj.jpg', 'DUpTsCRUQAAqcAG.jpg', 'DULB-rAXkAERR0C.jpg', 'DUPFNaKWsAMdb0N.jpg', 'DVaE7xiXcAAF_oz.jpg', 'DVcB56MV4AA4OTp.jpg', 'DVC8juaXUAESDQ8.jpg', 'DVCHYNuVAAA7hEs.jpg', 'UNnaz.png', 'DVyzghSXcAEYXEX.jpg', 'DVnK5EZU8AAka_2.jpg', 'DVpiVV9UQAAeriw.jpg', 'DVxhCqMVoAAHh1u.jpg', 'DVCZ2NnX0AEqhDD.jpg', 'DVpgUsIUMAAIfN_.jpg', 'DVcwN-lWAAAC4j2.jpg', 'creepyGuy.gif', 'DVyV0N9U8AAK2_x.jpg', 'homeofthebrave.gif', 'asilent.png', 'fishing.png', 'lionel.png', 'message.png', 'noonestop.png', 'NUNES.png', 'pedoPrison.png', 'rituallyAb.png', 'team.png', 'CYNTHIA.png', 'jfkChild.png', 'mandela.png', 'peace.png', 'rapeChildren.png', 'wehavetheServer.png', 'journalists.jpg', 'iranians.png', 'timesquare.png', 'finallyBeStrong.png', 'FREEDOM.png', 'gabCover.png', 'iranDeal.png', 'luckDragon.png', 'MiosotisFamilia.PNG', 'rapidFire.png', 'redpillLiberals.png', 'scroll.png', 'sessions.png', 'sessionsCroc.png', 'upTheChain.png', 'd5.gif', 'fb.png', 'HAIR.png', 'modernFamily.png', 'trust.png', 'blackhat.png', 'pasta.png', 'phase5.png', 'reconnectJulian.png', 'roseanne.png', 'trai.png', 'uranium.png', 'wall.png', 'lionKing.gif', 'chair.png', 'donjr.png', 'matrix.png', 'newsweek.png', 'ruth.png', 'leaves.gif', 'jackson.jpg', 'hrcvideo.jpg', 'wheresRuth.jpg', 'comingWeeks.jpg', 'kek.jpg', 'tarmac.jpg', 'muellerstein.jpg', 'puppyshow.jpg', 'woof.jpg', 'ruth.jpg', 'huberExexutioner.jpg', 'youvebeenQd.jpg', 'biblvs.jpg', 'train.jpg', 'treason.jpg', 'solarSystem.jpg', 'wayoflife.jpg', 'suppression.jpg', 'indeedAd.jpg', 'fixCountry.jpg', 'vfdfsdfdfd.jpg', 'ytComment.png', 'baderRise.png', 'ruthDead.jpg', 'abortion.jpg', 'sking.png', 'annCoulter.jpg', 'feinstein.png', 'muellerBarr.jpg', 'newWord.png', 'baderRecord.jpg', 'ginsburgMuseum.jpg', 'runningScated.jpg', 'fired.jpg', 'trumpRunning.jpg', 'corps.png', 'flyRuthFly.png', 'flyMaggie.png', '5eyes.png', 'nuremberg.jpg', 'youarethenews.jpg', 'oswalt.jpg', 'judgementComing2(1).jpg', 'youKnewThat(1).jpg', 'abusedLongEnough.jpg', 'youKnewThat.jpg', 'timetoStart.jpg', 'foudingOverthrow.jpg', 'judgementComing2.jpg', 'aQpexeW_460s.jpg', '003a75cf599e9b24b6951f731eaee7d2.jpeg', 'Screen Shot 2021-11-29 at 12.34.07 PM.png', '457c77c8aca6d28910efc5fdca8593f9.jpg', '098f8e5f97e5668547e70ad803e27923--macros-shake.jpg', '6f0409035777444bd7c3fa2375b35bfb.jpeg', '875d93133ddba3e8ccadcadf4d164b5e.jpeg', '7802c1ad8d9d953cc56467a61153d049.png', '130e2c96006e88aa25cff6888c2ba510.jpeg', '5f1d57f057eb99efd899e2e7ee609c16.jpeg', '233c3e321d498b96f364d58a2cf66e0b.jpeg', 'feminist-meme15.jpg', 'truePundit.png', 'animals.png', 'msm.png', 'Screen Shot 2021-11-29 at 1.10.27 PM.png', '617e0323ab4364598ed039374391489f.jpeg', '870dcfdca76f5c69f632740b79feaa30.png', 'DTybzAlV4AE6vOx.jpg', 'Screen Shot 2021-11-29 at 12.32.59 PM.png', '5981cf86210000a134fc9ca1.jpg', '321x1n.jpg', '3lt141.jpg', '5d6d1a20c321b.jpg', '34e0287d718d3b27f3fb78eae8c9a7eb.png', '98f987d38e9dee5a3e8ba7f58b7bf358.jpeg', '0caa2605cd53a61310a948e08a9aedbc.png', '9dddc8bc4a7ddcb26121709a2d814c12.png', '59c9852973f170df566f44bdbeb8e2b5.png', '4f31b54a8eb9e230beb5603811ca9e9f.jpeg', '979f1e0c0f7a4a28b4e599cbe4773a67.jpeg', '5de2353e5861c3e8761aa9716ad315b5.jpeg', '55aafefac7029dac59db3c9e767d842f.jpeg', '4c3b26e6ed3741b4930ed8a0008ca534.jpeg', '352f9cfe882b88004416222e29a0c3ca.jpeg', '389ae57e1c001ec78fc84a56eb86060b.jpeg', '421ba6b590f60e8ca14b864ef62b0937.jpeg', '8b0692fbb7b694714d9469223c3a365b.jpeg', '3296e4cea44ab2cd64470be83d474b20.jpeg', 'joy.png']\n"
     ]
    }
   ],
   "source": [
    "# Downloading the csv file from your GitHub account\n",
    "path=f'{images_location_original}/our_images.csv'\n",
    "df = pd.read_csv(path,index_col=0)\n",
    "\n",
    "# Extracting the list of images\n",
    "images_name_list = df[\"Name\"].tolist()\n",
    "\n",
    "# Extracting the list of hate/noHate\n",
    "hate_list = df[\"hate\"].tolist()\n",
    "\n",
    "\n",
    "# Print all images names\n",
    "print(images_name_list)"
   ]
  },
  {
   "cell_type": "markdown",
   "metadata": {},
   "source": [
    "## Get list of Images Names for FaceBook Images"
   ]
  },
  {
   "cell_type": "code",
   "execution_count": 57,
   "metadata": {},
   "outputs": [],
   "source": [
    "###########################################\n",
    "################## TO DO ##################\n",
    "###########################################\n",
    "\n",
    "# Downloading the csv file from your GitHub account\n",
    "path=f'{images_location_facebook}/facebook_images.csv'\n",
    "df = pd.read_csv(path,index_col=0)\n",
    "\n",
    "# Extracting the list of images\n",
    "facebook_images_name_list = df[\"Name\"].tolist()\n",
    "\n",
    "# Extracting the list of hate/noHate\n",
    "facebook_hate_list = df[\"hate\"].tolist()\n",
    "\n",
    "\n",
    "# Print all images names\n",
    "print(facebook_images_name_list)"
   ]
  },
  {
   "cell_type": "markdown",
   "metadata": {},
   "source": [
    "# Google Cloud Vision"
   ]
  },
  {
   "cell_type": "code",
   "execution_count": 58,
   "metadata": {},
   "outputs": [],
   "source": [
    "# For the Google Cloud Vision to work, specify the location of your key\n",
    "\n",
    "path_to_key=\"./memeproject-335703-018a67736bbc.json\""
   ]
  },
  {
   "cell_type": "markdown",
   "metadata": {},
   "source": [
    "## Create the enviroment variable indicating the Keys file"
   ]
  },
  {
   "cell_type": "code",
   "execution_count": 59,
   "metadata": {},
   "outputs": [
    {
     "name": "stdout",
     "output_type": "stream",
     "text": [
      "Service Account Key: ./memeproject-335703-018a67736bbc.json\n"
     ]
    }
   ],
   "source": [
    "# Imports Credential File:\n",
    "os.environ[\"GOOGLE_APPLICATION_CREDENTIALS\"] = path_to_key\n",
    "print(\"Service Account Key: {}\".format(os.environ[\"GOOGLE_APPLICATION_CREDENTIALS\"]))"
   ]
  },
  {
   "cell_type": "markdown",
   "metadata": {},
   "source": [
    "## Load the Google Vision Client"
   ]
  },
  {
   "cell_type": "code",
   "execution_count": 60,
   "metadata": {},
   "outputs": [],
   "source": [
    "from google.cloud import vision\n",
    "\n",
    "# Instantiates a client\n",
    "client = vision.ImageAnnotatorClient()"
   ]
  },
  {
   "cell_type": "markdown",
   "metadata": {},
   "source": [
    "# Auxiliary functions"
   ]
  },
  {
   "cell_type": "markdown",
   "metadata": {},
   "source": [
    "### Function that gets the text from an image"
   ]
  },
  {
   "cell_type": "code",
   "execution_count": 61,
   "metadata": {},
   "outputs": [],
   "source": [
    "# Get the Text From an Image\n",
    "# Img: one image in the Bytes format\n",
    "# Returns: Json response from Google API\n",
    "def getTextFromImage(img):\n",
    "\n",
    "  image = vision.Image(content=img)\n",
    "\n",
    "  response = client.text_detection(image=image)  # returns TextAnnotation JSON format\n",
    "  # texts = response.text_annotations # Convert the JSON into a List JSON elements\n",
    "\n",
    "  return(response)"
   ]
  },
  {
   "cell_type": "markdown",
   "metadata": {},
   "source": [
    "### Function that gets the objects from an image"
   ]
  },
  {
   "cell_type": "code",
   "execution_count": 62,
   "metadata": {},
   "outputs": [],
   "source": [
    "# Get the Objects from an Image\n",
    "# Img: one image in the Bytes format\n",
    "# Returns: Json response from Google API\n",
    "def getObjectsFromImage(img):\n",
    "\n",
    "  image = vision.Image(content=img)\n",
    "\n",
    "  response = client.object_localization(image=image)  # returns TextAnnotation JSON format\n",
    "  # texts = response.text_annotations # Convert the JSON into a List JSON elements\n",
    "\n",
    "  return(response)"
   ]
  },
  {
   "cell_type": "markdown",
   "metadata": {},
   "source": [
    "### Process all images"
   ]
  },
  {
   "cell_type": "markdown",
   "metadata": {},
   "source": [
    "Function that read the image"
   ]
  },
  {
   "cell_type": "code",
   "execution_count": 63,
   "metadata": {},
   "outputs": [],
   "source": [
    "# Open the Image specify by the \"path_images\" and the \"name\" of the image. It returns it as a Bytes type\n",
    "# path_images: path of the folder that contains the image\n",
    "# name: name of the image that we wish to open\n",
    "# Returns: Content of the Image in Bytes Format\n",
    "def open_img(path_images,name):\n",
    "  # Create URL of Image\n",
    "  url=f'{path_images}/{name}'\n",
    "  #print(\"Image Name: \",url)\n",
    "\n",
    "  # Open Image\n",
    "  with io.open(url, 'rb') as image_file:\n",
    "    content = image_file.read()\n",
    "        \n",
    "  return(content)"
   ]
  },
  {
   "cell_type": "markdown",
   "metadata": {},
   "source": [
    "Function that save the response"
   ]
  },
  {
   "cell_type": "code",
   "execution_count": 64,
   "metadata": {},
   "outputs": [],
   "source": [
    "# Method that save the response into the corresponding file.\n",
    "# name_file: name of csv file where the content is saved\n",
    "# content_names: list of all the names of the images \n",
    "# content_hate: list of all the categoriacal casiflication for all the images (0: No hate | 1: Hate)\n",
    "# content_text: list of all the json responses from the getText API function\n",
    "# content_objects: list of all the json responses from the getObjects API function\n",
    "def save_response(name_file,content_names,content_hate,content_text,content_objects):\n",
    "  #Create the route for the save file\n",
    "  path_to_file=f'{images_location_processed}/{name_file}.csv' \n",
    "\n",
    "  # Create the df\n",
    "  data = {'Name':content_names,\n",
    "          'hate':content_hate,\n",
    "          'text':content_text,\n",
    "          'object':content_objects}\n",
    "  df = pd.DataFrame(data)\n",
    "  \n",
    "  # Save the dataframe as a csv file\n",
    "  df.to_csv(path_to_file, index=False)"
   ]
  },
  {
   "cell_type": "markdown",
   "metadata": {},
   "source": [
    "# Main Loop"
   ]
  },
  {
   "cell_type": "code",
   "execution_count": 65,
   "metadata": {},
   "outputs": [],
   "source": [
    "# Reiterate over all images an get the text and objects\n",
    "# origin specify which dataset to use --> If 'our' it will processed our memes. If 'facebook' it will processed facebook memes.\n",
    "def mainGetTextAndObjectsFromImages(origin):\n",
    "  # Create Timer to measure time spent\n",
    "  start = time.time()\n",
    "  print(\"Start time: \",start)\n",
    "\n",
    "  \n",
    "  # Check if we are using our own dataset or facebook dataset\n",
    "  dataset=[]\n",
    "  dataset_hate=[]\n",
    "  path_open=\"\"\n",
    "  if(origin==\"our\"):\n",
    "    dataset=images_name_list\n",
    "    dataset_hate=hate_list\n",
    "    path_open=images_location_original\n",
    "  elif(origin==\"facebook\"):\n",
    "    dataset=facebook_images_name_list\n",
    "    dataset_hate= facebook_hate_list\n",
    "    path_open=images_location_facebook\n",
    "  else:\n",
    "    print(\"ERROR: Choose 'our' or 'facebook' dataset\")\n",
    "    return (1)\n",
    "  \n",
    "  print(\"Path: \",path_open)\n",
    "  #print(\"Images: \",dataset)\n",
    "  \n",
    "  # list to save the responses\n",
    "  list_text=[]\n",
    "  list_object=[]\n",
    "  \n",
    "  count=1\n",
    "  # Loop all the Images\n",
    "  for image_name in dataset:\n",
    "    # Print iteration and avg time spent\n",
    "    print_count=50 # Counter, Prints itself each print_count\n",
    "    if(count % print_count==0):\n",
    "      print(\"Iteration: \" + str(count) + \" | Avg Time/img: \" + str((time.time()-start)/count))\n",
    "    count+=1\n",
    "\n",
    "\n",
    "    # Open Image\n",
    "    content=open_img(path_open,image_name)\n",
    "\n",
    "    # Proccess Image\n",
    "    # Get Text\n",
    "    result_text = getTextFromImage(content)\n",
    "    # Get Objects\n",
    "    result_objects = getObjectsFromImage(content)\n",
    "\n",
    "    # Save responses\n",
    "    list_text.append(result_text)\n",
    "    list_object.append(result_objects)\n",
    "\n",
    "    #break\n",
    "  \n",
    "  # Save to file\n",
    "  #print(\"list text: \",list_text)\n",
    "  #print(\"list object: \",list_object)\n",
    "  save_response(f'{origin}_images_API_response',dataset,dataset_hate,list_text,list_object)\n",
    "  \n",
    "  end = time.time()\n",
    "  print(\"End time: \",end)\n",
    "  print(\"Time elapsed (sec): \",end - start)\n",
    "  print(\"Avg Time/img: \" + str((end-start)/count))"
   ]
  },
  {
   "cell_type": "markdown",
   "metadata": {},
   "source": [
    "## Run Everything"
   ]
  },
  {
   "cell_type": "code",
   "execution_count": 66,
   "metadata": {},
   "outputs": [
    {
     "name": "stdout",
     "output_type": "stream",
     "text": [
      "Start time:  1640699806.246478\n",
      "Path:  ../data/raw\n",
      "Iteration: 20 | Avg Time/img: 3.1469215631484984\n",
      "Iteration: 40 | Avg Time/img: 2.7817333161830904\n",
      "Iteration: 60 | Avg Time/img: 2.9542929848035175\n",
      "Iteration: 80 | Avg Time/img: 2.851920560002327\n",
      "Iteration: 100 | Avg Time/img: 2.850111794471741\n",
      "Iteration: 120 | Avg Time/img: 2.831601725021998\n",
      "Iteration: 140 | Avg Time/img: 2.726032326902662\n",
      "Iteration: 160 | Avg Time/img: 2.5945176064968107\n",
      "Iteration: 180 | Avg Time/img: 2.4223732577429877\n",
      "Iteration: 200 | Avg Time/img: 2.404889520406723\n",
      "Iteration: 220 | Avg Time/img: 2.280617496100339\n",
      "Iteration: 240 | Avg Time/img: 2.167714564005534\n",
      "Iteration: 260 | Avg Time/img: 2.067071215923016\n",
      "Iteration: 280 | Avg Time/img: 1.9852360308170318\n",
      "Iteration: 300 | Avg Time/img: 1.9272727926572164\n",
      "Iteration: 320 | Avg Time/img: 1.8645831286907195\n",
      "Iteration: 340 | Avg Time/img: 1.8311321097261766\n",
      "Iteration: 360 | Avg Time/img: 1.780944996409946\n",
      "Iteration: 380 | Avg Time/img: 1.741428926743959\n",
      "Iteration: 400 | Avg Time/img: 1.7123395532369614\n",
      "Iteration: 420 | Avg Time/img: 1.6787269949913024\n",
      "Iteration: 440 | Avg Time/img: 1.6476966294375333\n",
      "Iteration: 460 | Avg Time/img: 1.6126926655354707\n",
      "Iteration: 480 | Avg Time/img: 1.5952419638633728\n",
      "Iteration: 500 | Avg Time/img: 1.5785622081756592\n",
      "Iteration: 520 | Avg Time/img: 1.586720554645245\n",
      "Iteration: 540 | Avg Time/img: 1.6432468431967275\n",
      "Iteration: 560 | Avg Time/img: 1.6671284449951989\n",
      "Iteration: 580 | Avg Time/img: 1.691838094694861\n",
      "Iteration: 600 | Avg Time/img: 1.7024142777919768\n",
      "Iteration: 620 | Avg Time/img: 1.728313385671185\n",
      "Iteration: 640 | Avg Time/img: 1.7485268246382475\n",
      "Iteration: 660 | Avg Time/img: 1.7602940971201115\n",
      "Iteration: 680 | Avg Time/img: 1.7827258625451257\n",
      "Iteration: 700 | Avg Time/img: 1.781929406779153\n",
      "Iteration: 720 | Avg Time/img: 1.7766967326402665\n",
      "Iteration: 740 | Avg Time/img: 1.7682955909419704\n",
      "Iteration: 760 | Avg Time/img: 1.843866670445392\n",
      "Iteration: 780 | Avg Time/img: 1.9691372412901658\n",
      "Iteration: 800 | Avg Time/img: 2.134619464278221\n",
      "Iteration: 820 | Avg Time/img: 2.150466822996372\n",
      "Iteration: 840 | Avg Time/img: 2.205567667597816\n",
      "Iteration: 860 | Avg Time/img: 2.1996755799581837\n",
      "Iteration: 880 | Avg Time/img: 2.1859402670101686\n",
      "End time:  1640701743.1202164\n",
      "Time elapsed (sec):  1936.8737382888794\n",
      "Avg Time/img: 2.178710616747896\n"
     ]
    }
   ],
   "source": [
    "# Run the code for \"our\" own memes\n",
    "mainGetTextAndObjectsFromImages(\"our\")"
   ]
  },
  {
   "cell_type": "code",
   "execution_count": null,
   "metadata": {},
   "outputs": [],
   "source": [
    "# Run the code for \"facebook\" own memes\n",
    "mainGetTextAndObjectsFromImages(\"facebook\")"
   ]
  },
  {
   "cell_type": "markdown",
   "metadata": {},
   "source": [
    "# Google Cloud Vision Functions:\n",
    "\n",
    "\n",
    "Text detection: **text_detection()**\n",
    "https://cloud.google.com/vision/docs/ocr\n",
    "\n",
    "For documents and handwriten text:  **document_text_detection()**\n",
    "https://cloud.google.com/vision/docs/handwriting\n",
    "\n",
    "Detect Faces: **face_detection()** \n",
    "https://cloud.google.com/vision/docs/detecting-faces\n",
    "\n",
    "Get colors: **image_properties()**\n",
    "https://cloud.google.com/vision/docs/detecting-properties\n",
    "\n",
    "Detect Tags of an Image: **label_detection()**\n",
    "https://cloud.google.com/vision/docs/labels\n",
    "\n",
    "\n",
    "Detect Landmarks: **landmark_detection()**\n",
    "https://cloud.google.com/vision/docs/detecting-landmarks\n",
    "\n",
    "Detect Logos: **logo_detection()**\n",
    "https://cloud.google.com/vision/docs/detecting-logos\n",
    "\n",
    "Detect Object and position: **object_localization()**\n",
    "https://cloud.google.com/vision/docs/object-localizer\n",
    "\n",
    "Detect explicit Content: **safe_search_detection()**\n",
    "https://cloud.google.com/vision/docs/detecting-safe-search\n",
    "\n",
    "Detect Web Pages: **web_detection()**\n",
    "https://cloud.google.com/vision/docs/detecting-web"
   ]
  }
 ],
 "metadata": {
  "interpreter": {
   "hash": "44eda8387d1abe27f3254cd5005c21392d49fce9405fec3bb58609760c26f8bf"
  },
  "kernelspec": {
   "display_name": "Python 3.7.4 32-bit",
   "language": "python",
   "name": "python3"
  },
  "language_info": {
   "codemirror_mode": {
    "name": "ipython",
    "version": 3
   },
   "file_extension": ".py",
   "mimetype": "text/x-python",
   "name": "python",
   "nbconvert_exporter": "python",
   "pygments_lexer": "ipython3",
   "version": "3.8.12"
  },
  "orig_nbformat": 4
 },
 "nbformat": 4,
 "nbformat_minor": 2
}
