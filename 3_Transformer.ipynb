{
  "cells": [
    {
      "cell_type": "markdown",
      "metadata": {
        "id": "view-in-github",
        "colab_type": "text"
      },
      "source": [
        "<a href=\"https://colab.research.google.com/github/ZeyuWangAngus/AIM-5011-NLP-Final-Project/blob/main/3_Transformer.ipynb\" target=\"_parent\"><img src=\"https://colab.research.google.com/assets/colab-badge.svg\" alt=\"Open In Colab\"/></a>"
      ]
    },
    {
      "cell_type": "code",
      "execution_count": 2,
      "id": "48c584b5-ba4d-4274-8c21-28b7b14a1259",
      "metadata": {
        "id": "48c584b5-ba4d-4274-8c21-28b7b14a1259",
        "colab": {
          "base_uri": "https://localhost:8080/"
        },
        "outputId": "3e31a6a1-1abf-44e1-f748-87e0c1f97d4a"
      },
      "outputs": [
        {
          "output_type": "stream",
          "name": "stdout",
          "text": [
            "Requirement already satisfied: tensorflow-addons in /usr/local/lib/python3.7/dist-packages (0.16.1)\n",
            "Requirement already satisfied: typeguard>=2.7 in /usr/local/lib/python3.7/dist-packages (from tensorflow-addons) (2.7.1)\n"
          ]
        }
      ],
      "source": [
        "!pip install -U tensorflow-addons"
      ]
    },
    {
      "cell_type": "code",
      "execution_count": 3,
      "id": "f4fdb475-1e58-4910-ae1c-3b08b824a79f",
      "metadata": {
        "id": "f4fdb475-1e58-4910-ae1c-3b08b824a79f"
      },
      "outputs": [],
      "source": [
        "import numpy as np\n",
        "import tensorflow as tf\n",
        "from tensorflow import keras\n",
        "from tensorflow.keras import layers\n",
        "import tensorflow_addons as tfa\n",
        "from os import listdir\n",
        "from os.path import isfile, join"
      ]
    },
    {
      "cell_type": "code",
      "execution_count": 4,
      "id": "688ed349-f68e-40b4-9049-af0cbe21c4fe",
      "metadata": {
        "id": "688ed349-f68e-40b4-9049-af0cbe21c4fe"
      },
      "outputs": [],
      "source": [
        "learning_rate = 0.001\n",
        "weight_decay = 0.0001\n",
        "batch_size = 540\n",
        "num_epochs = 100\n",
        "image_size = 80  # We'll resize input images to this size\n",
        "patch_size = 10  # Size of the patches to be extract from the input images\n",
        "num_patches = (image_size // patch_size) ** 2\n",
        "projection_dim = 64\n",
        "num_heads = 4\n",
        "transformer_units = [\n",
        "    projection_dim * 2,\n",
        "    projection_dim,\n",
        "]  # Size of the transformer layers\n",
        "transformer_layers = 8\n",
        "mlp_head_units = [2048, 1024]  # Size of the dense layers of the final classifier"
      ]
    },
    {
      "cell_type": "code",
      "source": [
        "from google.colab import drive\n",
        "drive.mount('/content/gdrive')"
      ],
      "metadata": {
        "id": "EXpvpNiLaDNq",
        "colab": {
          "base_uri": "https://localhost:8080/"
        },
        "outputId": "1b62aa56-942b-42af-f56c-86b3af1a0484"
      },
      "id": "EXpvpNiLaDNq",
      "execution_count": 5,
      "outputs": [
        {
          "output_type": "stream",
          "name": "stdout",
          "text": [
            "Drive already mounted at /content/gdrive; to attempt to forcibly remount, call drive.mount(\"/content/gdrive\", force_remount=True).\n"
          ]
        }
      ]
    },
    {
      "cell_type": "code",
      "execution_count": 6,
      "id": "4374a147-c17d-4925-bc1f-9fa2c249fbb5",
      "metadata": {
        "id": "4374a147-c17d-4925-bc1f-9fa2c249fbb5"
      },
      "outputs": [],
      "source": [
        "train_AD = [f for f in listdir('/content/gdrive/MyDrive/capstone/image_transformer/train/AD/') if isfile(join('/content/gdrive/MyDrive/capstone/image_transformer/train/AD/', f))]\n",
        "train_MCI = [f for f in listdir('/content/gdrive/MyDrive/capstone/image_transformer/train/MCI/') if isfile(join('/content/gdrive/MyDrive/capstone/image_transformer/train/MCI/', f))]\n",
        "test_AD = [f for f in listdir('/content/gdrive/MyDrive/capstone/image_transformer/test/AD/') if isfile(join('/content/gdrive/MyDrive/capstone/image_transformer/test/AD/', f))]\n",
        "test_MCI = [f for f in listdir('/content/gdrive/MyDrive/capstone/image_transformer/test/MCI/') if isfile(join('/content/gdrive/MyDrive/capstone/image_transformer/test/MCI/', f))]"
      ]
    },
    {
      "cell_type": "code",
      "execution_count": 7,
      "id": "50dcada5-d596-4185-985a-28b1b285ad17",
      "metadata": {
        "id": "50dcada5-d596-4185-985a-28b1b285ad17"
      },
      "outputs": [],
      "source": [
        "from PIL import Image\n",
        "import numpy as np"
      ]
    },
    {
      "cell_type": "code",
      "execution_count": 8,
      "id": "a498f02e-8eb7-429c-b1df-ca2aa566fdd8",
      "metadata": {
        "id": "a498f02e-8eb7-429c-b1df-ca2aa566fdd8"
      },
      "outputs": [],
      "source": [
        "num_classes = 2\n",
        "input_shape = (200, 200, 4)"
      ]
    },
    {
      "cell_type": "code",
      "execution_count": 9,
      "id": "5b32ad1b-70c8-4458-873c-71e7b5767cc7",
      "metadata": {
        "id": "5b32ad1b-70c8-4458-873c-71e7b5767cc7"
      },
      "outputs": [],
      "source": [
        "x_train = []\n",
        "y_train = []"
      ]
    },
    {
      "cell_type": "code",
      "execution_count": 10,
      "id": "12b3196b-1200-4cb5-ac03-659741c386d3",
      "metadata": {
        "id": "12b3196b-1200-4cb5-ac03-659741c386d3"
      },
      "outputs": [],
      "source": [
        "for i in train_AD:\n",
        "    imag1 = np.asarray(Image.open('/content/gdrive/MyDrive/capstone/image_transformer/'+'/train/AD/'+i))\n",
        "    x_train.append(imag1)\n",
        "    y_train.append(1)"
      ]
    },
    {
      "cell_type": "code",
      "execution_count": 11,
      "id": "426bb8c5-97ca-4cfc-9cfa-3187f54c2274",
      "metadata": {
        "id": "426bb8c5-97ca-4cfc-9cfa-3187f54c2274"
      },
      "outputs": [],
      "source": [
        "for i in train_MCI:\n",
        "    imag1 = np.asarray(Image.open('/content/gdrive/MyDrive/capstone/image_transformer/'+'/train/MCI/'+i))\n",
        "    x_train.append(imag1)\n",
        "    y_train.append(0)"
      ]
    },
    {
      "cell_type": "code",
      "execution_count": 12,
      "id": "8d69061d-4669-4980-9446-3f4cc7752a9b",
      "metadata": {
        "id": "8d69061d-4669-4980-9446-3f4cc7752a9b"
      },
      "outputs": [],
      "source": [
        "x_train = np.array(x_train)\n",
        "y_train = np.array(y_train)"
      ]
    },
    {
      "cell_type": "code",
      "execution_count": 13,
      "id": "cf259fcf-2e68-48e2-b0ad-1ebf279e1ca6",
      "metadata": {
        "id": "cf259fcf-2e68-48e2-b0ad-1ebf279e1ca6"
      },
      "outputs": [],
      "source": [
        "x_test = []\n",
        "y_test = []"
      ]
    },
    {
      "cell_type": "code",
      "execution_count": 14,
      "id": "44d54a92-44ee-4d48-a0a7-8bb4ef1c00d6",
      "metadata": {
        "id": "44d54a92-44ee-4d48-a0a7-8bb4ef1c00d6"
      },
      "outputs": [],
      "source": [
        "for i in test_AD:\n",
        "    imag1 = np.asarray(Image.open('/content/gdrive/MyDrive/capstone/image_transformer/'+'/test/AD/'+i))\n",
        "    x_test.append(imag1)\n",
        "    y_test.append(1)"
      ]
    },
    {
      "cell_type": "code",
      "execution_count": 15,
      "id": "9770ba48-4a67-4650-b574-0074e457b70c",
      "metadata": {
        "id": "9770ba48-4a67-4650-b574-0074e457b70c"
      },
      "outputs": [],
      "source": [
        "for i in test_MCI:\n",
        "    imag1 = np.asarray(Image.open('/content/gdrive/MyDrive/capstone/image_transformer/'+'/test/MCI/'+i))\n",
        "    x_test.append(imag1)\n",
        "    y_test.append(0)"
      ]
    },
    {
      "cell_type": "code",
      "execution_count": 16,
      "id": "2806235c-ef56-4fef-a4e6-14a317050f82",
      "metadata": {
        "id": "2806235c-ef56-4fef-a4e6-14a317050f82"
      },
      "outputs": [],
      "source": [
        "x_test = np.array(x_test)\n",
        "y_test = np.array(y_test)"
      ]
    },
    {
      "cell_type": "code",
      "execution_count": 17,
      "id": "e8f17a9f-77ca-4e28-9996-3ddbf48182a4",
      "metadata": {
        "id": "e8f17a9f-77ca-4e28-9996-3ddbf48182a4"
      },
      "outputs": [],
      "source": [
        "data_augmentation = keras.Sequential(\n",
        "    [\n",
        "        layers.Normalization(),\n",
        "        layers.Resizing(image_size, image_size),\n",
        "        layers.RandomFlip(\"horizontal\"),\n",
        "        layers.RandomRotation(factor=0.02),\n",
        "        layers.RandomZoom(\n",
        "            height_factor=0.2, width_factor=0.2\n",
        "        ),\n",
        "    ],\n",
        "    name=\"data_augmentation\",\n",
        ")\n",
        "# Compute the mean and the variance of the training data for normalization.\n",
        "data_augmentation.layers[0].adapt(x_train)"
      ]
    },
    {
      "cell_type": "code",
      "execution_count": 18,
      "id": "66b885e1-f968-4c09-a703-5104f2621f86",
      "metadata": {
        "id": "66b885e1-f968-4c09-a703-5104f2621f86"
      },
      "outputs": [],
      "source": [
        "def mlp(x, hidden_units, dropout_rate):\n",
        "    for units in hidden_units:\n",
        "        x = layers.Dense(units, activation=tf.nn.gelu)(x)\n",
        "        x = layers.Dropout(dropout_rate)(x)\n",
        "    return x"
      ]
    },
    {
      "cell_type": "code",
      "execution_count": 19,
      "id": "2333812e-50a8-42ea-8d02-67053cfaec86",
      "metadata": {
        "id": "2333812e-50a8-42ea-8d02-67053cfaec86"
      },
      "outputs": [],
      "source": [
        "class Patches(layers.Layer):\n",
        "    def __init__(self, patch_size):\n",
        "        super(Patches, self).__init__()\n",
        "        self.patch_size = patch_size\n",
        "\n",
        "    def call(self, images):\n",
        "        batch_size = tf.shape(images)[0]\n",
        "        patches = tf.image.extract_patches(\n",
        "            images=images,\n",
        "            sizes=[1, self.patch_size, self.patch_size, 1],\n",
        "            strides=[1, self.patch_size, self.patch_size, 1],\n",
        "            rates=[1, 1, 1, 1],\n",
        "            padding=\"VALID\",\n",
        "        )\n",
        "        patch_dims = patches.shape[-1]\n",
        "        patches = tf.reshape(patches, [batch_size, -1, patch_dims])\n",
        "        return patches"
      ]
    },
    {
      "cell_type": "code",
      "execution_count": 20,
      "id": "d26d350c-fc60-42bb-b94a-da87d365430c",
      "metadata": {
        "id": "d26d350c-fc60-42bb-b94a-da87d365430c",
        "colab": {
          "base_uri": "https://localhost:8080/",
          "height": 550
        },
        "outputId": "89a142cf-1f08-4ad1-b8c7-f2736fb95347"
      },
      "outputs": [
        {
          "output_type": "stream",
          "name": "stdout",
          "text": [
            "Image size: 80 X 80\n",
            "Patch size: 10 X 10\n",
            "Patches per image: 64\n",
            "Elements per patch: 400\n"
          ]
        },
        {
          "output_type": "display_data",
          "data": {
            "text/plain": [
              "<Figure size 288x288 with 1 Axes>"
            ],
            "image/png": "[encoded data removed]"
          },
          "metadata": {
            "needs_background": "light"
          }
        },
        {
          "output_type": "display_data",
          "data": {
            "text/plain": [
              "<Figure size 288x288 with 64 Axes>"
            ],
            "image/png": "[encoded data removed]"
          },
          "metadata": {
            "needs_background": "light"
          }
        }
      ],
      "source": [
        "import matplotlib.pyplot as plt\n",
        "\n",
        "plt.figure(figsize=(4, 4))\n",
        "image = x_train[np.random.choice(range(x_train.shape[0]))]\n",
        "plt.imshow(image.astype(\"uint8\"))\n",
        "plt.axis(\"off\")\n",
        "\n",
        "resized_image = tf.image.resize(\n",
        "    tf.convert_to_tensor([image]), size=(image_size, image_size)\n",
        ")\n",
        "patches = Patches(patch_size)(resized_image)\n",
        "print(f\"Image size: {image_size} X {image_size}\")\n",
        "print(f\"Patch size: {patch_size} X {patch_size}\")\n",
        "print(f\"Patches per image: {patches.shape[1]}\")\n",
        "print(f\"Elements per patch: {patches.shape[-1]}\")\n",
        "\n",
        "n = int(np.sqrt(patches.shape[1]))\n",
        "plt.figure(figsize=(4, 4))\n",
        "for i, patch in enumerate(patches[0]):\n",
        "    ax = plt.subplot(n, n, i + 1)\n",
        "    patch_img = tf.reshape(patch[0:300], (patch_size, patch_size, 3))\n",
        "    plt.imshow(patch_img.numpy().astype(\"uint8\"))\n",
        "    plt.axis(\"off\")"
      ]
    },
    {
      "cell_type": "code",
      "execution_count": 21,
      "id": "22aa6a9c-84e2-472f-9285-a5017c8a2b30",
      "metadata": {
        "id": "22aa6a9c-84e2-472f-9285-a5017c8a2b30"
      },
      "outputs": [],
      "source": [
        "class PatchEncoder(layers.Layer):\n",
        "    def __init__(self, num_patches, projection_dim):\n",
        "        super(PatchEncoder, self).__init__()\n",
        "        self.num_patches = num_patches\n",
        "        self.projection = layers.Dense(units=projection_dim)\n",
        "        self.position_embedding = layers.Embedding(\n",
        "            input_dim=num_patches, output_dim=projection_dim\n",
        "        )\n",
        "\n",
        "    def call(self, patch):\n",
        "        positions = tf.range(start=0, limit=self.num_patches, delta=1)\n",
        "        encoded = self.projection(patch) + self.position_embedding(positions)\n",
        "        return encoded"
      ]
    },
    {
      "cell_type": "code",
      "execution_count": 22,
      "id": "191085d9-00ae-451a-a77a-e0cac44df427",
      "metadata": {
        "id": "191085d9-00ae-451a-a77a-e0cac44df427"
      },
      "outputs": [],
      "source": [
        "def create_vit_classifier():\n",
        "    inputs = layers.Input(shape=input_shape)\n",
        "    # Augment data.\n",
        "    augmented = data_augmentation(inputs)\n",
        "    # Create patches.\n",
        "    patches = Patches(patch_size)(augmented)\n",
        "    # Encode patches.\n",
        "    encoded_patches = PatchEncoder(num_patches, projection_dim)(patches)\n",
        "\n",
        "    # Create multiple layers of the Transformer block.\n",
        "    for _ in range(transformer_layers):\n",
        "        # Layer normalization 1.\n",
        "        x1 = layers.LayerNormalization(epsilon=1e-6)(encoded_patches)\n",
        "        # Create a multi-head attention layer.\n",
        "        attention_output = layers.MultiHeadAttention(\n",
        "            num_heads=num_heads, key_dim=projection_dim, dropout=0.1\n",
        "        )(x1, x1)\n",
        "        # Skip connection 1.\n",
        "        x2 = layers.Add()([attention_output, encoded_patches])\n",
        "        # Layer normalization 2.\n",
        "        x3 = layers.LayerNormalization(epsilon=1e-6)(x2)\n",
        "        # MLP.\n",
        "        x3 = mlp(x3, hidden_units=transformer_units, dropout_rate=0.1)\n",
        "        # Skip connection 2.\n",
        "        encoded_patches = layers.Add()([x3, x2])\n",
        "\n",
        "    # Create a [batch_size, projection_dim] tensor.\n",
        "    representation = layers.LayerNormalization(epsilon=1e-6)(encoded_patches)\n",
        "    representation = layers.Flatten()(representation)\n",
        "    representation = layers.Dropout(0.5)(representation)\n",
        "    # Add MLP.\n",
        "    features = mlp(representation, hidden_units=mlp_head_units, dropout_rate=0.5)\n",
        "    # Classify outputs.\n",
        "    logits = layers.Dense(num_classes)(features)\n",
        "    # Create the Keras model.\n",
        "    model = keras.Model(inputs=inputs, outputs=logits)\n",
        "    return model"
      ]
    },
    {
      "cell_type": "code",
      "source": [
        "model = create_vit_classifier()\n",
        "optimizer = tfa.optimizers.AdamW(\n",
        "        learning_rate=learning_rate, weight_decay=weight_decay\n",
        "    )\n",
        "model.compile(\n",
        "        optimizer=optimizer,\n",
        "        loss=keras.losses.SparseCategoricalCrossentropy(from_logits=True),\n",
        "        metrics=[\n",
        "            keras.metrics.SparseCategoricalAccuracy(name=\"accuracy\"),\n",
        "            keras.metrics.SparseTopKCategoricalAccuracy(5, name=\"top-5-accuracy\"),\n",
        "        ],\n",
        "    )"
      ],
      "metadata": {
        "id": "pcOBz9A5xAXM"
      },
      "id": "pcOBz9A5xAXM",
      "execution_count": 23,
      "outputs": []
    },
    {
      "cell_type": "code",
      "source": [
        "checkpoint_filepath = \"/content/gdrive/MyDrive/capstone/tmp/checkpoint\"\n",
        "checkpoint_callback = keras.callbacks.ModelCheckpoint(\n",
        "        checkpoint_filepath,\n",
        "        monitor=\"val_accuracy\",\n",
        "        save_best_only=True,\n",
        "        save_weights_only=True,\n",
        "    )"
      ],
      "metadata": {
        "id": "2hj_ev7ClPvc"
      },
      "id": "2hj_ev7ClPvc",
      "execution_count": 24,
      "outputs": []
    },
    {
      "cell_type": "code",
      "source": [
        "history = model.fit(\n",
        "        x=x_train,\n",
        "        y=y_train,\n",
        "        batch_size=batch_size,\n",
        "        epochs=10,\n",
        "        validation_split=0.1,\n",
        "        callbacks=[checkpoint_callback],\n",
        "    )"
      ],
      "metadata": {
        "colab": {
          "base_uri": "https://localhost:8080/"
        },
        "id": "0WpMjfF7lUrO",
        "outputId": "f9af0526-6beb-4bcc-f1a4-7b1d3c091436"
      },
      "id": "0WpMjfF7lUrO",
      "execution_count": 25,
      "outputs": [
        {
          "output_type": "stream",
          "name": "stdout",
          "text": [
            "Epoch 1/10\n",
            "1/1 [==============================] - 34s 34s/step - loss: 1.4822 - accuracy: 0.5283 - top-5-accuracy: 1.0000 - val_loss: 1.9688e-05 - val_accuracy: 1.0000 - val_top-5-accuracy: 1.0000\n",
            "Epoch 2/10\n",
            "1/1 [==============================] - 12s 12s/step - loss: 2.6808 - accuracy: 0.6215 - top-5-accuracy: 1.0000 - val_loss: 54.7180 - val_accuracy: 0.0000e+00 - val_top-5-accuracy: 1.0000\n",
            "Epoch 3/10\n",
            "1/1 [==============================] - 12s 12s/step - loss: 23.0177 - accuracy: 0.5810 - top-5-accuracy: 1.0000 - val_loss: 10.1784 - val_accuracy: 0.0000e+00 - val_top-5-accuracy: 1.0000\n",
            "Epoch 4/10\n",
            "1/1 [==============================] - 12s 12s/step - loss: 5.2891 - accuracy: 0.6113 - top-5-accuracy: 1.0000 - val_loss: 0.0013 - val_accuracy: 1.0000 - val_top-5-accuracy: 1.0000\n",
            "Epoch 5/10\n",
            "1/1 [==============================] - 12s 12s/step - loss: 0.6186 - accuracy: 0.8097 - top-5-accuracy: 1.0000 - val_loss: 9.9095e-04 - val_accuracy: 1.0000 - val_top-5-accuracy: 1.0000\n",
            "Epoch 6/10\n",
            "1/1 [==============================] - 12s 12s/step - loss: 1.7306 - accuracy: 0.5486 - top-5-accuracy: 1.0000 - val_loss: 0.1931 - val_accuracy: 0.8909 - val_top-5-accuracy: 1.0000\n",
            "Epoch 7/10\n",
            "1/1 [==============================] - 12s 12s/step - loss: 0.4014 - accuracy: 0.8785 - top-5-accuracy: 1.0000 - val_loss: 0.9385 - val_accuracy: 0.7273 - val_top-5-accuracy: 1.0000\n",
            "Epoch 8/10\n",
            "1/1 [==============================] - 12s 12s/step - loss: 0.6531 - accuracy: 0.8279 - top-5-accuracy: 1.0000 - val_loss: 0.7878 - val_accuracy: 0.7455 - val_top-5-accuracy: 1.0000\n",
            "Epoch 9/10\n",
            "1/1 [==============================] - 11s 11s/step - loss: 0.6720 - accuracy: 0.8117 - top-5-accuracy: 1.0000 - val_loss: 0.2250 - val_accuracy: 0.8727 - val_top-5-accuracy: 1.0000\n",
            "Epoch 10/10\n",
            "1/1 [==============================] - 11s 11s/step - loss: 0.3702 - accuracy: 0.8623 - top-5-accuracy: 1.0000 - val_loss: 0.0503 - val_accuracy: 0.9818 - val_top-5-accuracy: 1.0000\n"
          ]
        }
      ]
    },
    {
      "cell_type": "code",
      "source": [
        "\n",
        "_, accuracy, top_5_accuracy = model.evaluate(x_test, y_test)\n",
        "print(f\"Test accuracy: {round(accuracy * 100, 2)}%\")\n",
        "print(f\"Test top 5 accuracy: {round(top_5_accuracy * 100, 2)}%\")"
      ],
      "metadata": {
        "colab": {
          "base_uri": "https://localhost:8080/"
        },
        "id": "Llv4I-6JldtA",
        "outputId": "c7bf3490-393d-45cc-b532-97782a356021"
      },
      "id": "Llv4I-6JldtA",
      "execution_count": 26,
      "outputs": [
        {
          "output_type": "stream",
          "name": "stdout",
          "text": [
            "9/9 [==============================] - 3s 310ms/step - loss: 0.0729 - accuracy: 0.9926 - top-5-accuracy: 1.0000\n",
            "Test accuracy: 99.26%\n",
            "Test top 5 accuracy: 100.0%\n"
          ]
        }
      ]
    },
    {
      "cell_type": "code",
      "execution_count": 27,
      "id": "23a0aca1-0ceb-4163-b25a-cc0b328ffd8e",
      "metadata": {
        "id": "23a0aca1-0ceb-4163-b25a-cc0b328ffd8e"
      },
      "outputs": [],
      "source": [
        "predict_label = model.predict(x_test)"
      ]
    },
    {
      "cell_type": "code",
      "source": [
        "predict = []"
      ],
      "metadata": {
        "id": "B6Z0KEmCS5mX"
      },
      "id": "B6Z0KEmCS5mX",
      "execution_count": 39,
      "outputs": []
    },
    {
      "cell_type": "code",
      "source": [
        "for i in predict_label:\n",
        "  if i[0]>i[1]:\n",
        "    predict.append(0)\n",
        "  else:\n",
        "    predict.append(1)"
      ],
      "metadata": {
        "id": "lhfbt00SMR62"
      },
      "id": "lhfbt00SMR62",
      "execution_count": 40,
      "outputs": []
    },
    {
      "cell_type": "code",
      "source": [
        "TP = 0\n",
        "FP = 0\n",
        "TN = 0\n",
        "FN =  0\n",
        "for i in range(len(y_test)):\n",
        "    if y_test[i] == 1:\n",
        "        if predict[i] == 1:\n",
        "            TP+=1\n",
        "        else:\n",
        "            FN+=1\n",
        "    if y_test[i] == 0:\n",
        "        if predict[i] == 0:\n",
        "            TN+=1\n",
        "        else:\n",
        "            FP+=1"
      ],
      "metadata": {
        "id": "QbxhxY77TFZ3"
      },
      "id": "QbxhxY77TFZ3",
      "execution_count": 41,
      "outputs": []
    },
    {
      "cell_type": "code",
      "source": [
        "matrix = np.array([[TP, FN], [FP, TN]])\n",
        "matrix"
      ],
      "metadata": {
        "colab": {
          "base_uri": "https://localhost:8080/"
        },
        "id": "FdGuQDAHTLPN",
        "outputId": "66f19d0e-2eec-48b4-d023-8f628995d11d"
      },
      "id": "FdGuQDAHTLPN",
      "execution_count": 42,
      "outputs": [
        {
          "output_type": "execute_result",
          "data": {
            "text/plain": [
              "array([[122,   1],\n",
              "       [  1, 147]])"
            ]
          },
          "metadata": {},
          "execution_count": 42
        }
      ]
    },
    {
      "cell_type": "code",
      "source": [
        "import seaborn as sns\n",
        "sns.heatmap(matrix, annot = True, cmap='Blues')"
      ],
      "metadata": {
        "colab": {
          "base_uri": "https://localhost:8080/",
          "height": 283
        },
        "id": "8fA7Ev6NTQaD",
        "outputId": "96c5e568-87ba-407f-9e52-2c9cd8fb4584"
      },
      "id": "8fA7Ev6NTQaD",
      "execution_count": 43,
      "outputs": [
        {
          "output_type": "execute_result",
          "data": {
            "text/plain": [
              "<matplotlib.axes._subplots.AxesSubplot at 0x7fc359496d90>"
            ]
          },
          "metadata": {},
          "execution_count": 43
        },
        {
          "output_type": "display_data",
          "data": {
            "text/plain": [
              "<Figure size 432x288 with 2 Axes>"
            ],
            "image/png": "[encoded data removed]"
          },
          "metadata": {
            "needs_background": "light"
          }
        }
      ]
    },
    {
      "cell_type": "code",
      "source": [
        "precision = TP/(TP+FP)\n",
        "precision"
      ],
      "metadata": {
        "colab": {
          "base_uri": "https://localhost:8080/"
        },
        "id": "Ll1iOy2mTShk",
        "outputId": "57180173-d559-46f5-8c3b-6ddc4d55afeb"
      },
      "id": "Ll1iOy2mTShk",
      "execution_count": 44,
      "outputs": [
        {
          "output_type": "execute_result",
          "data": {
            "text/plain": [
              "0.991869918699187"
            ]
          },
          "metadata": {},
          "execution_count": 44
        }
      ]
    },
    {
      "cell_type": "code",
      "source": [
        "recall = TP/(TP+FN)\n",
        "recall"
      ],
      "metadata": {
        "colab": {
          "base_uri": "https://localhost:8080/"
        },
        "id": "vMCLFOD-TUbY",
        "outputId": "23a91a27-bf23-4c4e-dc59-b6e1d5135cab"
      },
      "id": "vMCLFOD-TUbY",
      "execution_count": 45,
      "outputs": [
        {
          "output_type": "execute_result",
          "data": {
            "text/plain": [
              "0.991869918699187"
            ]
          },
          "metadata": {},
          "execution_count": 45
        }
      ]
    },
    {
      "cell_type": "code",
      "source": [
        "F1 = (2*precision*recall)/(precision+recall)\n",
        "F1"
      ],
      "metadata": {
        "colab": {
          "base_uri": "https://localhost:8080/"
        },
        "id": "hoWrfXWFTXL1",
        "outputId": "fa890618-c7e1-4686-b4e6-393974adec16"
      },
      "id": "hoWrfXWFTXL1",
      "execution_count": 46,
      "outputs": [
        {
          "output_type": "execute_result",
          "data": {
            "text/plain": [
              "0.991869918699187"
            ]
          },
          "metadata": {},
          "execution_count": 46
        }
      ]
    },
    {
      "cell_type": "code",
      "source": [
        "accuracy = (TP+TN)/(TP+FP+TN+FN)\n",
        "accuracy"
      ],
      "metadata": {
        "colab": {
          "base_uri": "https://localhost:8080/"
        },
        "id": "b2BJRwicTZLC",
        "outputId": "a7d59056-cab9-48ff-d2a3-0c5cf284664d"
      },
      "id": "b2BJRwicTZLC",
      "execution_count": 47,
      "outputs": [
        {
          "output_type": "execute_result",
          "data": {
            "text/plain": [
              "0.992619926199262"
            ]
          },
          "metadata": {},
          "execution_count": 47
        }
      ]
    },
    {
      "cell_type": "code",
      "source": [
        "from tabulate import tabulate"
      ],
      "metadata": {
        "id": "TGutFsM-TbxP"
      },
      "id": "TGutFsM-TbxP",
      "execution_count": 48,
      "outputs": []
    },
    {
      "cell_type": "code",
      "source": [
        "table = [['Accuracy', 'recall', 'precision', 'F1'], [accuracy, recall, precision, F1]]"
      ],
      "metadata": {
        "id": "zbJrv3AYTdGg"
      },
      "id": "zbJrv3AYTdGg",
      "execution_count": 49,
      "outputs": []
    },
    {
      "cell_type": "code",
      "source": [
        "print(tabulate(table))"
      ],
      "metadata": {
        "colab": {
          "base_uri": "https://localhost:8080/"
        },
        "id": "lfvVed_8TgME",
        "outputId": "f0230248-773c-4833-9c19-8f296f492db7"
      },
      "id": "lfvVed_8TgME",
      "execution_count": 50,
      "outputs": [
        {
          "output_type": "stream",
          "name": "stdout",
          "text": [
            "-----------------  -----------------  -----------------  -----------------\n",
            "Accuracy           recall             precision          F1\n",
            "0.992619926199262  0.991869918699187  0.991869918699187  0.991869918699187\n",
            "-----------------  -----------------  -----------------  -----------------\n"
          ]
        }
      ]
    },
    {
      "cell_type": "code",
      "source": [
        "model.save('model1/')"
      ],
      "metadata": {
        "colab": {
          "base_uri": "https://localhost:8080/"
        },
        "id": "C60r8MHdeztJ",
        "outputId": "e629cd90-af15-42b7-bf9e-6770f1b4cbd2"
      },
      "id": "C60r8MHdeztJ",
      "execution_count": 54,
      "outputs": [
        {
          "output_type": "stream",
          "name": "stderr",
          "text": [
            "WARNING:absl:Found untraced functions such as dense_layer_call_fn, dense_layer_call_and_return_conditional_losses, embedding_layer_call_fn, embedding_layer_call_and_return_conditional_losses, query_layer_call_fn while saving (showing 5 of 100). These functions will not be directly callable after loading.\n"
          ]
        },
        {
          "output_type": "stream",
          "name": "stdout",
          "text": [
            "INFO:tensorflow:Assets written to: model1/assets\n"
          ]
        },
        {
          "output_type": "stream",
          "name": "stderr",
          "text": [
            "INFO:tensorflow:Assets written to: model1/assets\n"
          ]
        }
      ]
    }
  ],
  "metadata": {
    "kernelspec": {
      "display_name": "Python 3 (ipykernel)",
      "language": "python",
      "name": "python3"
    },
    "language_info": {
      "codemirror_mode": {
        "name": "ipython",
        "version": 3
      },
      "file_extension": ".py",
      "mimetype": "text/x-python",
      "name": "python",
      "nbconvert_exporter": "python",
      "pygments_lexer": "ipython3",
      "version": "3.8.11"
    },
    "colab": {
      "name": "3 Transformer.ipynb",
      "provenance": [],
      "collapsed_sections": [],
      "include_colab_link": true
    },
    "accelerator": "TPU"
  },
  "nbformat": 4,
  "nbformat_minor": 5
}